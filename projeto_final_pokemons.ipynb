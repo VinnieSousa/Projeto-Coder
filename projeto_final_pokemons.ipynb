{
 "cells": [
  {
   "cell_type": "code",
   "execution_count": 1,
   "metadata": {},
   "outputs": [],
   "source": [
    "import pandas as pd\n",
    "import requests\n",
    "import sqlite3\n",
    "from plyer import notification\n",
    "from datetime import datetime"
   ]
  },
  {
   "cell_type": "code",
   "execution_count": 2,
   "metadata": {},
   "outputs": [],
   "source": [
    "def save_to_db(df, table_name, conn):\n",
    "    df.to_sql(table_name, conn, if_exists='replace', index=False)\n",
    "    print(f\"Tabela {table_name} salva no banco de dados\")"
   ]
  },
  {
   "cell_type": "markdown",
   "metadata": {},
   "source": [
    "Pokemons"
   ]
  },
  {
   "cell_type": "code",
   "execution_count": 6,
   "metadata": {},
   "outputs": [],
   "source": [
    "url = \"https://pokeapi.co/api/v2/pokemon\"\n",
    "response = requests.get(url)"
   ]
  },
  {
   "cell_type": "code",
   "execution_count": 7,
   "metadata": {},
   "outputs": [
    {
     "name": "stdout",
     "output_type": "stream",
     "text": [
      "Funcionou\n",
      "          name  height  weight  base_experience\n",
      "0    bulbasaur       7      69               64\n",
      "1      ivysaur      10     130              142\n",
      "2     venusaur      20    1000              263\n",
      "3   charmander       6      85               62\n",
      "4   charmeleon      11     190              142\n",
      "5    charizard      17     905              267\n",
      "6     squirtle       5      90               63\n",
      "7    wartortle      10     225              142\n",
      "8    blastoise      16     855              265\n",
      "9     caterpie       3      29               39\n",
      "10     metapod       7      99               72\n",
      "11  butterfree      11     320              198\n",
      "12      weedle       3      32               39\n",
      "13      kakuna       6     100               72\n",
      "14    beedrill      10     295              178\n",
      "15      pidgey       3      18               50\n",
      "16   pidgeotto      11     300              122\n",
      "17     pidgeot      15     395              216\n",
      "18     rattata       3      35               51\n",
      "19    raticate       7     185              145\n"
     ]
    }
   ],
   "source": [
    "if response.status_code == 200:\n",
    "    data_json = response.json()\n",
    "    print(\"Funcionou\")\n",
    "\n",
    "    pokemon_list = []\n",
    "    for pokemon in data_json['results']:\n",
    "        pokemon_url = pokemon['url']\n",
    "        pokemon_response = requests.get(pokemon_url)\n",
    "        pokemon_data = pokemon_response.json()\n",
    "        pokemon_info = {\n",
    "            'name': pokemon_data['name'],\n",
    "            'height': pokemon_data['height'],\n",
    "            'weight': pokemon_data['weight'],\n",
    "            'base_experience': pokemon_data['base_experience']\n",
    "            }\n",
    "        pokemon_list.append(pokemon_info)\n",
    "    df_pokemons = pd.DataFrame(pokemon_list)\n",
    "    print(df_pokemons)\n",
    "else:\n",
    "    print(\"Não foi\")"
   ]
  },
  {
   "cell_type": "markdown",
   "metadata": {},
   "source": [
    "TMs"
   ]
  },
  {
   "cell_type": "code",
   "execution_count": 8,
   "metadata": {},
   "outputs": [],
   "source": [
    "url = \"https://pokeapi.co/api/v2/machine\"\n",
    "response = requests.get(url)"
   ]
  },
  {
   "cell_type": "code",
   "execution_count": 9,
   "metadata": {},
   "outputs": [
    {
     "name": "stdout",
     "output_type": "stream",
     "text": [
      "Funcionou\n",
      "    id    TM                     generation           move\n",
      "0    1  tm00                   sword-shield     mega-punch\n",
      "1    2  tm01                       red-blue     mega-punch\n",
      "2    3  tm01                         yellow     mega-punch\n",
      "3    4  tm01                    gold-silver  dynamic-punch\n",
      "4    5  tm01                        crystal  dynamic-punch\n",
      "5    6  tm01                  ruby-sapphire    focus-punch\n",
      "6    7  tm01                        emerald    focus-punch\n",
      "7    8  tm01              firered-leafgreen    focus-punch\n",
      "8    9  tm01                  diamond-pearl    focus-punch\n",
      "9   10  tm01                       platinum    focus-punch\n",
      "10  11  tm01           heartgold-soulsilver    focus-punch\n",
      "11  12  tm01                    black-white     hone-claws\n",
      "12  13  tm01                      colosseum    focus-punch\n",
      "13  14  tm01                             xd    focus-punch\n",
      "14  15  tm01                black-2-white-2     hone-claws\n",
      "15  16  tm01                            x-y     hone-claws\n",
      "16  17  tm01      omega-ruby-alpha-sapphire     hone-claws\n",
      "17  18  tm01                       sun-moon        work-up\n",
      "18  19  tm01           ultra-sun-ultra-moon        work-up\n",
      "19  20  tm01  lets-go-pikachu-lets-go-eevee       headbutt\n"
     ]
    }
   ],
   "source": [
    "if response.status_code == 200:\n",
    "    data_json = response.json()\n",
    "    print(\"Funcionou\")\n",
    "\n",
    "    machine_list = []\n",
    "    for machine in data_json['results']:\n",
    "        machine_url = machine['url']\n",
    "        machine_response = requests.get(machine_url)\n",
    "        machine_data = machine_response.json()\n",
    "        machine_info = {\n",
    "             'id': machine_data['id'],\n",
    "             'TM': machine_data['item']['name'],\n",
    "             'generation': machine_data['version_group']['name'],\n",
    "             'move': machine_data['move']['name'],\n",
    "\n",
    "            }\n",
    "        machine_list.append(machine_info)\n",
    "    df_machine_list = pd.DataFrame(machine_list)\n",
    "    print(df_machine_list)\n",
    "else:\n",
    "    print(\"Não foi\")"
   ]
  },
  {
   "cell_type": "markdown",
   "metadata": {},
   "source": [
    "Moves"
   ]
  },
  {
   "cell_type": "code",
   "execution_count": 10,
   "metadata": {},
   "outputs": [],
   "source": [
    "url = \"https://pokeapi.co/api/v2/move\"\n",
    "response = requests.get(url)"
   ]
  },
  {
   "cell_type": "code",
   "execution_count": 11,
   "metadata": {},
   "outputs": [
    {
     "name": "stdout",
     "output_type": "stream",
     "text": [
      "funcionou\n",
      "             name      type  power  accuracy  power points  \\\n",
      "0           pound    normal   40.0     100.0            35   \n",
      "1     karate-chop  fighting   50.0     100.0            25   \n",
      "2     double-slap    normal   15.0      85.0            10   \n",
      "3     comet-punch    normal   18.0      85.0            15   \n",
      "4      mega-punch    normal   80.0      85.0            20   \n",
      "5         pay-day    normal   40.0     100.0            20   \n",
      "6      fire-punch      fire   75.0     100.0            15   \n",
      "7       ice-punch       ice   75.0     100.0            15   \n",
      "8   thunder-punch  electric   75.0     100.0            15   \n",
      "9         scratch    normal   40.0     100.0            35   \n",
      "10      vice-grip    normal   55.0     100.0            30   \n",
      "11     guillotine    normal    NaN      30.0             5   \n",
      "12     razor-wind    normal   80.0     100.0            10   \n",
      "13   swords-dance    normal    NaN       NaN            20   \n",
      "14            cut    normal   50.0      95.0            30   \n",
      "15           gust    flying   40.0     100.0            35   \n",
      "16    wing-attack    flying   60.0     100.0            35   \n",
      "17      whirlwind    normal    NaN       NaN            20   \n",
      "18            fly    flying   90.0      95.0            15   \n",
      "19           bind    normal   15.0      85.0            20   \n",
      "\n",
      "                                               effect  \n",
      "0   Inflicts regular damage with no additional eff...  \n",
      "1         Has an increased chance for a critical hit.  \n",
      "2                         Hits 2-5 times in one turn.  \n",
      "3                         Hits 2-5 times in one turn.  \n",
      "4   Inflicts regular damage with no additional eff...  \n",
      "5   Scatters money on the ground worth five times ...  \n",
      "6                Has a 10% chance to burn the target.  \n",
      "7              Has a 10% chance to freeze the target.  \n",
      "8            Has a 10% chance to paralyze the target.  \n",
      "9   Inflicts regular damage with no additional eff...  \n",
      "10  Inflicts regular damage with no additional eff...  \n",
      "11                               Causes a one-hit KO.  \n",
      "12        Requires a turn to charge before attacking.  \n",
      "13            Raises the user's Attack by two stages.  \n",
      "14  Inflicts regular damage with no additional eff...  \n",
      "15  Inflicts regular damage and can hit Pokémon in...  \n",
      "16  Inflicts regular damage with no additional eff...  \n",
      "17  Immediately ends wild battles.  Forces trainer...  \n",
      "18  User flies high into the air, dodging all atta...  \n",
      "19  Prevents the target from fleeing and inflicts ...  \n"
     ]
    }
   ],
   "source": [
    "if response.status_code == 200:\n",
    "    data_json = response.json()\n",
    "    print(\"funcionou\")\n",
    "\n",
    "    move_list = []\n",
    "    for move in data_json ['results']:\n",
    "        move_url = move['url']\n",
    "        move_response = requests.get(move_url)\n",
    "        move_data = move_response.json()\n",
    "        move_info = {\n",
    "            'name': move_data ['name'],\n",
    "            'type': move_data ['type']['name'],\n",
    "            'power': move_data['power'],\n",
    "            'accuracy': move_data['accuracy'],\n",
    "            'power points': move_data['pp'],\n",
    "            'effect': move_data ['effect_entries'][0]['short_effect'],\n",
    "        }\n",
    "        move_list.append(move_info)\n",
    "    df_moves = pd.DataFrame(move_list)\n",
    "    print(df_moves)\n",
    "else:\n",
    "    print(\"nao funcionou\")"
   ]
  },
  {
   "cell_type": "code",
   "execution_count": 12,
   "metadata": {},
   "outputs": [
    {
     "name": "stdout",
     "output_type": "stream",
     "text": [
      "Tabela Pokemon salva no banco de dados\n"
     ]
    }
   ],
   "source": [
    "conn = sqlite3.connect('coderhouse.db')\n",
    "save_to_db(df_pokemons, 'Pokemon', conn)\n",
    "conn.close()"
   ]
  },
  {
   "cell_type": "code",
   "execution_count": 13,
   "metadata": {},
   "outputs": [
    {
     "name": "stdout",
     "output_type": "stream",
     "text": [
      "Tabela TMs salva no banco de dados\n"
     ]
    }
   ],
   "source": [
    "conn = sqlite3.connect('coderhouse.db')\n",
    "save_to_db(df_machine_list, 'TMs', conn)\n",
    "conn.close()"
   ]
  },
  {
   "cell_type": "code",
   "execution_count": 14,
   "metadata": {},
   "outputs": [
    {
     "name": "stdout",
     "output_type": "stream",
     "text": [
      "Tabela Moves salva no banco de dados\n"
     ]
    }
   ],
   "source": [
    "conn = sqlite3.connect('coderhouse.db')\n",
    "save_to_db(df_moves, 'Moves', conn)\n",
    "conn.close()"
   ]
  },
  {
   "cell_type": "markdown",
   "metadata": {},
   "source": [
    "Notification"
   ]
  },
  {
   "cell_type": "code",
   "execution_count": 15,
   "metadata": {},
   "outputs": [],
   "source": [
    "def alerta(nivel, base, etapa):\n",
    "    now = str(datetime.now())\n",
    "    msg = f\"Falha no carregamento da base {base} na etapa {etapa}.\\n{now}\"\n",
    "\n",
    "    if nivel == 1:\n",
    "        title = 'ATENÇÃO: Alerta Baixo'\n",
    "    elif nivel == 2:\n",
    "        title = 'ATENÇÃO: Alerta Médio'\n",
    "    elif nivel  == 3:\n",
    "        title = 'ATENÇÃO: Alerta Alto'\n",
    "    else:\n",
    "        print(\"Nivel\",nivel,\"não disponível!\")\n",
    "\n",
    "    notification.notify(\n",
    "            title=title,\n",
    "            message=msg,\n",
    "            app_name='alerta',\n",
    "            timeout=10\n",
    "        )\n",
    "\n",
    "alerta(nivel = 3,\n",
    "        base = \"POKEDEX\", \n",
    "        etapa = \"EXTRACAO\")"
   ]
  },
  {
   "cell_type": "code",
   "execution_count": 16,
   "metadata": {},
   "outputs": [
    {
     "name": "stdout",
     "output_type": "stream",
     "text": [
      "          name  height  weight  base_experience\n",
      "0    bulbasaur       7      69               64\n",
      "1      ivysaur      10     130              142\n",
      "2     venusaur      20    1000              263\n",
      "3   charmander       6      85               62\n",
      "4   charmeleon      11     190              142\n",
      "5    charizard      17     905              267\n",
      "6     squirtle       5      90               63\n",
      "7    wartortle      10     225              142\n",
      "8    blastoise      16     855              265\n",
      "9     caterpie       3      29               39\n",
      "10     metapod       7      99               72\n",
      "11  butterfree      11     320              198\n",
      "12      weedle       3      32               39\n",
      "13      kakuna       6     100               72\n",
      "14    beedrill      10     295              178\n",
      "15      pidgey       3      18               50\n",
      "16   pidgeotto      11     300              122\n",
      "17     pidgeot      15     395              216\n",
      "18     rattata       3      35               51\n",
      "19    raticate       7     185              145\n"
     ]
    }
   ],
   "source": [
    "conn = sqlite3.connect('coderhouse.db')\n",
    "query = \"SELECT * FROM Pokemon\"\n",
    "df = pd.read_sql(query, conn)\n",
    "print(df)\n",
    "\n",
    "conn.close()"
   ]
  },
  {
   "cell_type": "code",
   "execution_count": 17,
   "metadata": {},
   "outputs": [
    {
     "name": "stdout",
     "output_type": "stream",
     "text": [
      "       name\n",
      "0  produtos\n",
      "1  Pokemons\n",
      "2   Pokemon\n",
      "3       TMs\n",
      "4     Moves\n"
     ]
    }
   ],
   "source": [
    "conn = sqlite3.connect('coderhouse.db')\n",
    "query = \"SELECT name FROM sqlite_master WHERE type='table'\"\n",
    "schema = pd.read_sql_query(query, conn)\n",
    "print(schema)\n",
    "\n",
    "conn.close()"
   ]
  }
 ],
 "metadata": {
  "kernelspec": {
   "display_name": "ambientedetrabalho",
   "language": "python",
   "name": "python3"
  },
  "language_info": {
   "codemirror_mode": {
    "name": "ipython",
    "version": 3
   },
   "file_extension": ".py",
   "mimetype": "text/x-python",
   "name": "python",
   "nbconvert_exporter": "python",
   "pygments_lexer": "ipython3",
   "version": "3.12.3"
  }
 },
 "nbformat": 4,
 "nbformat_minor": 2
}
