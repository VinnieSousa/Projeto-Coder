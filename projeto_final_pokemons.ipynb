{
 "cells": [
  {
   "cell_type": "code",
   "execution_count": 26,
   "metadata": {},
   "outputs": [],
   "source": [
    "import pandas as pd\n",
    "import requests\n",
    "from plyer import notification"
   ]
  },
  {
   "cell_type": "markdown",
   "metadata": {},
   "source": [
    "Pokemons"
   ]
  },
  {
   "cell_type": "code",
   "execution_count": 27,
   "metadata": {},
   "outputs": [],
   "source": [
    "url = \"https://pokeapi.co/api/v2/pokemon\"\n",
    "response = requests.get(url)"
   ]
  },
  {
   "cell_type": "code",
   "execution_count": null,
   "metadata": {},
   "outputs": [],
   "source": [
    "if response.status_code == 200:\n",
    "    data_json = response.json()\n",
    "    print(\"Funcionou\")\n",
    "\n",
    "    pokemon_list = []\n",
    "    for pokemon in data_json['results']:\n",
    "        pokemon_url = pokemon['url']\n",
    "        pokemon_response = requests.get(pokemon_url)\n",
    "        pokemon_data = pokemon_response.json()\n",
    "        pokemon_info = {\n",
    "            'name': pokemon_data['name'],\n",
    "            'height': pokemon_data['height'],\n",
    "            'weight': pokemon_data['weight'],\n",
    "            'base_experience': pokemon_data['base_experience'],\n",
    "            'abilities': [ability['ability']['name'] for ability in pokemon_data['abilities']]\n",
    "            }\n",
    "        pokemon_list.append(pokemon_info)\n",
    "    df = pd.DataFrame(pokemon_list)\n",
    "    print(df)\n",
    "else:\n",
    "    print(\"Não foi\")"
   ]
  },
  {
   "cell_type": "markdown",
   "metadata": {},
   "source": [
    "TMs"
   ]
  },
  {
   "cell_type": "code",
   "execution_count": 29,
   "metadata": {},
   "outputs": [],
   "source": [
    "url = \"https://pokeapi.co/api/v2/machine\"\n",
    "response = requests.get(url)"
   ]
  },
  {
   "cell_type": "code",
   "execution_count": null,
   "metadata": {},
   "outputs": [],
   "source": [
    "if response.status_code == 200:\n",
    "    data_json = response.json()\n",
    "    print(\"Funcionou\")\n",
    "\n",
    "    machine_list = []\n",
    "    for machine in data_json['results']:\n",
    "        machine_url = machine['url']\n",
    "        machine_response = requests.get(machine_url)\n",
    "        machine_data = machine_response.json()\n",
    "        machine_info = {\n",
    "             'id': machine_data['id'],\n",
    "             'TM': machine_data['item']['name'],\n",
    "             'generation': machine_data['version_group']['name'],\n",
    "             'move': machine_data['move']['name'],\n",
    "\n",
    "            }\n",
    "        machine_list.append(machine_info)\n",
    "    df = pd.DataFrame(machine_list)\n",
    "    print(df)\n",
    "else:\n",
    "    print(\"Não foi\")"
   ]
  },
  {
   "cell_type": "markdown",
   "metadata": {},
   "source": [
    "Moves"
   ]
  },
  {
   "cell_type": "code",
   "execution_count": 31,
   "metadata": {},
   "outputs": [],
   "source": [
    "url = \"https://pokeapi.co/api/v2/move\"\n",
    "response = requests.get(url)"
   ]
  },
  {
   "cell_type": "code",
   "execution_count": null,
   "metadata": {},
   "outputs": [],
   "source": [
    "if response.status_code == 200:\n",
    "    data_json = response.json()\n",
    "    print(\"funcionou\")\n",
    "\n",
    "    move_list = []\n",
    "    for move in data_json ['results']:\n",
    "        move_url = move['url']\n",
    "        move_response = requests.get(move_url)\n",
    "        move_data = move_response.json()\n",
    "        move_info = {\n",
    "            'name': move_data ['name'],\n",
    "            'type': move_data ['type']['name'],\n",
    "            'power': move_data['power'],\n",
    "            'accuracy': move_data['accuracy'],\n",
    "            'power points': move_data['pp'],\n",
    "            'effect': move_data ['effect_entries'][0]['short_effect'],\n",
    "        }\n",
    "        move_list.append(move_info)\n",
    "    df = pd.DataFrame(move_list)\n",
    "    print(df)\n",
    "else:\n",
    "    print(\"nao funcionou\")"
   ]
  },
  {
   "cell_type": "markdown",
   "metadata": {},
   "source": [
    "Notification"
   ]
  },
  {
   "cell_type": "code",
   "execution_count": 33,
   "metadata": {},
   "outputs": [],
   "source": [
    "notification.notify(\n",
    "    title = 'Pokedex visualizada',\n",
    "    message = 'Sua pokedex foi visualizada',\n",
    "    app_name = 'Pokedex',\n",
    "    timeout=10\n",
    ")"
   ]
  }
 ],
 "metadata": {
  "kernelspec": {
   "display_name": "ambientedetrabalho",
   "language": "python",
   "name": "python3"
  },
  "language_info": {
   "codemirror_mode": {
    "name": "ipython",
    "version": 3
   },
   "file_extension": ".py",
   "mimetype": "text/x-python",
   "name": "python",
   "nbconvert_exporter": "python",
   "pygments_lexer": "ipython3",
   "version": "3.12.3"
  }
 },
 "nbformat": 4,
 "nbformat_minor": 2
}
