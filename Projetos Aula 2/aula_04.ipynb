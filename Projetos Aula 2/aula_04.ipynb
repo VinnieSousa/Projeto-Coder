{
 "cells": [
  {
   "cell_type": "code",
   "execution_count": 4,
   "metadata": {},
   "outputs": [
    {
     "name": "stdout",
     "output_type": "stream",
     "text": [
      "10^0 = 1\n",
      "10^1 = 10\n",
      "10^2 = 100\n",
      "10^3 = 1000\n",
      "10^4 = 10000\n"
     ]
    }
   ],
   "source": [
    "pot_10= [1, 10, 100, 1000, 10000]\n",
    "indice_pot = 0\n",
    "for potencia in pot_10:\n",
    "    print (f'10^{indice_pot} = {potencia}')\n",
    "    indice_pot += 1"
   ]
  },
  {
   "cell_type": "code",
   "execution_count": 6,
   "metadata": {},
   "outputs": [
    {
     "name": "stdout",
     "output_type": "stream",
     "text": [
      "o fatorial de 5 é 120\n"
     ]
    }
   ],
   "source": [
    "valor = int(input('Insira um valor'))\n",
    "fatorial = 1\n",
    "\n",
    "for item in range(1, valor+1):\n",
    "    fatorial *= item\n",
    "\n",
    "print(f'o fatorial de {valor} é {fatorial}')\n",
    "    "
   ]
  }
 ],
 "metadata": {
  "kernelspec": {
   "display_name": "ambientedetrabalho",
   "language": "python",
   "name": "python3"
  },
  "language_info": {
   "codemirror_mode": {
    "name": "ipython",
    "version": 3
   },
   "file_extension": ".py",
   "mimetype": "text/x-python",
   "name": "python",
   "nbconvert_exporter": "python",
   "pygments_lexer": "ipython3",
   "version": "3.12.3"
  }
 },
 "nbformat": 4,
 "nbformat_minor": 2
}
