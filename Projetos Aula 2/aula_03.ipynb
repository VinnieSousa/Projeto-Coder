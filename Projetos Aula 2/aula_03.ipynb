{
 "cells": [
  {
   "cell_type": "code",
   "execution_count": 7,
   "metadata": {},
   "outputs": [
    {
     "name": "stdout",
     "output_type": "stream",
     "text": [
      "['a', 'P', 't', 'o']\n"
     ]
    }
   ],
   "source": [
    "frutas = [\"Banana\", \"Maca\", \"Uva\", \"Melancia\", \"Melao\"]\n",
    "fruta = input(\"Insira uma nova fruta: \")\n",
    "frutas.append(fruta)\n",
    "frutas = list(set(fruta))\n",
    "print(frutas)"
   ]
  },
  {
   "cell_type": "code",
   "execution_count": 10,
   "metadata": {},
   "outputs": [
    {
     "name": "stdout",
     "output_type": "stream",
     "text": [
      "p*t* q** p*r** **n\n"
     ]
    }
   ],
   "source": [
    "palavra = input(\"digite sua palavra: \")\n",
    "palavra_alterada = palavra.replace(\"a\", \"*\").replace(\"e\",\"*\").replace(\"i\",\"*\").replace(\"o\",\"*\").replace(\"u\",\"*\")\n",
    "print(palavra_alterada)"
   ]
  },
  {
   "cell_type": "code",
   "execution_count": 17,
   "metadata": {},
   "outputs": [
    {
     "name": "stdout",
     "output_type": "stream",
     "text": [
      "numero par\n"
     ]
    }
   ],
   "source": [
    "numero = int(input(\"digite seu numero: \"))\n",
    "if numero%2 == 0:\n",
    " print(\"numero par\")\n",
    "else:\n",
    " print(\"numero impar\")"
   ]
  },
  {
   "cell_type": "code",
   "execution_count": 22,
   "metadata": {},
   "outputs": [
    {
     "name": "stdout",
     "output_type": "stream",
     "text": [
      "desbloqueado com sucesso\n"
     ]
    }
   ],
   "source": [
    "senha = input(\"digite a senha\")\n",
    "while senha != \"1234\":\n",
    " senha = input((\"senha errada, tente novamente: \"))\n",
    "print(\"desbloqueado com sucesso\")"
   ]
  }
 ],
 "metadata": {
  "kernelspec": {
   "display_name": "ambientedetrabalho",
   "language": "python",
   "name": "python3"
  },
  "language_info": {
   "codemirror_mode": {
    "name": "ipython",
    "version": 3
   },
   "file_extension": ".py",
   "mimetype": "text/x-python",
   "name": "python",
   "nbconvert_exporter": "python",
   "pygments_lexer": "ipython3",
   "version": "3.12.3"
  }
 },
 "nbformat": 4,
 "nbformat_minor": 2
}
