{
 "cells": [
  {
   "cell_type": "code",
   "execution_count": null,
   "metadata": {},
   "outputs": [],
   "source": [
    "Crie uma função primeiro_nome que recebe uma string nome completo e retorna somente o primeiro nome.\n",
    "Em seguida, use a função map para aplicar a função a uma lista de strings: nomes = ['João Carlos', 'Maria Eduarda', 'Ana Rute', 'Ana Clara']"
   ]
  },
  {
   "cell_type": "code",
   "execution_count": 2,
   "metadata": {},
   "outputs": [
    {
     "name": "stdout",
     "output_type": "stream",
     "text": [
      "['João', 'Maria', 'Ana', 'Ana']\n"
     ]
    }
   ],
   "source": [
    "def primeiro_nome(nome_completo):\n",
    "    partes_nome = nome_completo.split()\n",
    "    return partes_nome[0]\n",
    "nomes = ['João Carlos', 'Maria Eduarda', 'Ana Rute', 'Ana Clara']\n",
    "primeiros_nomes = list(map(primeiro_nome, nomes))\n",
    "print(lista_primeiros_nomes)"
   ]
  },
  {
   "cell_type": "code",
   "execution_count": null,
   "metadata": {},
   "outputs": [],
   "source": [
    "Escreva uma função que receba uma data no formato dd/mm/aaaa e retorne o dia da semana correspondente."
   ]
  },
  {
   "cell_type": "code",
   "execution_count": 11,
   "metadata": {},
   "outputs": [
    {
     "name": "stdout",
     "output_type": "stream",
     "text": [
      "O dia 20/10/1995 é Friday\n"
     ]
    }
   ],
   "source": [
    "from datetime import datetime\n",
    "\n",
    "def dia_da_semana(data_str):\n",
    "    data = datetime.strptime(data_str, \"%d/%m/%Y\")\n",
    "    numero_dia_semana = data.strftime('%A')\n",
    "    return numero_dia_semana\n",
    "\n",
    "data_str = \"20/10/1995\"\n",
    "print(f\"O dia {data_str} é {dia_semana_str}\")"
   ]
  },
  {
   "cell_type": "markdown",
   "metadata": {},
   "source": [
    "Crie uma classe retângulo que tenha os atributos base e altura.\n",
    "Além disso, que possua os métodos área () e perímetro ()\n",
    "Crie um objeto e teste os métodos"
   ]
  },
  {
   "cell_type": "code",
   "execution_count": 81,
   "metadata": {},
   "outputs": [],
   "source": [
    "class Retangulo:\n",
    "    def __init__(self,base,altura):\n",
    "        self.base = base\n",
    "        self.altura = altura\n",
    "    def area(self):\n",
    "        area_retangulo = self.base * self.altura\n",
    "        print(area_retangulo)\n",
    "   \n"
   ]
  },
  {
   "cell_type": "code",
   "execution_count": 82,
   "metadata": {},
   "outputs": [],
   "source": [
    "retangulo1 = Retangulo(3, 6)"
   ]
  },
  {
   "cell_type": "code",
   "execution_count": 86,
   "metadata": {},
   "outputs": [
    {
     "ename": "TypeError",
     "evalue": "'NoneType' object is not callable",
     "output_type": "error",
     "traceback": [
      "\u001b[1;31m---------------------------------------------------------------------------\u001b[0m",
      "\u001b[1;31mTypeError\u001b[0m                                 Traceback (most recent call last)",
      "Cell \u001b[1;32mIn[86], line 1\u001b[0m\n\u001b[1;32m----> 1\u001b[0m \u001b[43mretangulo1\u001b[49m\u001b[38;5;241;43m.\u001b[39;49m\u001b[43marea\u001b[49m\u001b[43m(\u001b[49m\u001b[43m)\u001b[49m\n",
      "Cell \u001b[1;32mIn[81], line 7\u001b[0m, in \u001b[0;36mRetangulo.area\u001b[1;34m(self)\u001b[0m\n\u001b[0;32m      5\u001b[0m \u001b[38;5;28;01mdef\u001b[39;00m \u001b[38;5;21marea\u001b[39m(\u001b[38;5;28mself\u001b[39m):\n\u001b[0;32m      6\u001b[0m     area_retangulo \u001b[38;5;241m=\u001b[39m \u001b[38;5;28mself\u001b[39m\u001b[38;5;241m.\u001b[39mbase \u001b[38;5;241m*\u001b[39m \u001b[38;5;28mself\u001b[39m\u001b[38;5;241m.\u001b[39maltura\n\u001b[1;32m----> 7\u001b[0m     \u001b[38;5;28;43mprint\u001b[39;49m\u001b[43m(\u001b[49m\u001b[43marea_retangulo\u001b[49m\u001b[43m)\u001b[49m\n",
      "\u001b[1;31mTypeError\u001b[0m: 'NoneType' object is not callable"
     ]
    }
   ],
   "source": [
    "retangulo1.area()"
   ]
  },
  {
   "cell_type": "code",
   "execution_count": 87,
   "metadata": {},
   "outputs": [],
   "source": [
    "class Retangulo:\n",
    "    def __init__(self,base,altura):\n",
    "        self.base = base\n",
    "        self.altura = altura\n",
    "    def area(self):\n",
    "        return self.base *self.altura\n",
    "    \n",
    "    def perimetro(self):\n",
    "        return 2 * (self.base + self.altura)"
   ]
  },
  {
   "cell_type": "code",
   "execution_count": 88,
   "metadata": {},
   "outputs": [],
   "source": [
    "retangulo2 = Retangulo(3,6)\n",
    "area2 = retangulo2.area()\n"
   ]
  },
  {
   "cell_type": "code",
   "execution_count": 89,
   "metadata": {},
   "outputs": [
    {
     "ename": "TypeError",
     "evalue": "'NoneType' object is not callable",
     "output_type": "error",
     "traceback": [
      "\u001b[1;31m---------------------------------------------------------------------------\u001b[0m",
      "\u001b[1;31mTypeError\u001b[0m                                 Traceback (most recent call last)",
      "Cell \u001b[1;32mIn[89], line 1\u001b[0m\n\u001b[1;32m----> 1\u001b[0m \u001b[38;5;28;43mprint\u001b[39;49m\u001b[43m(\u001b[49m\u001b[43m{\u001b[49m\u001b[43marea2\u001b[49m\u001b[43m}\u001b[49m\u001b[43m)\u001b[49m\n",
      "\u001b[1;31mTypeError\u001b[0m: 'NoneType' object is not callable"
     ]
    }
   ],
   "source": [
    "print({area2})"
   ]
  },
  {
   "cell_type": "code",
   "execution_count": 90,
   "metadata": {},
   "outputs": [
    {
     "ename": "TypeError",
     "evalue": "'NoneType' object is not callable",
     "output_type": "error",
     "traceback": [
      "\u001b[1;31m---------------------------------------------------------------------------\u001b[0m",
      "\u001b[1;31mTypeError\u001b[0m                                 Traceback (most recent call last)",
      "Cell \u001b[1;32mIn[90], line 4\u001b[0m\n\u001b[0;32m      2\u001b[0m area1 \u001b[38;5;241m=\u001b[39m retangulo1\u001b[38;5;241m.\u001b[39marea()\n\u001b[0;32m      3\u001b[0m perimetro1 \u001b[38;5;241m=\u001b[39m retangulo1\u001b[38;5;241m.\u001b[39mperimetro()\n\u001b[1;32m----> 4\u001b[0m \u001b[38;5;28;43mprint\u001b[39;49m\u001b[43m(\u001b[49m\u001b[38;5;124;43mf\u001b[39;49m\u001b[38;5;124;43m\"\u001b[39;49m\u001b[38;5;124;43mÁrea: \u001b[39;49m\u001b[38;5;132;43;01m{\u001b[39;49;00m\u001b[43marea1\u001b[49m\u001b[38;5;132;43;01m}\u001b[39;49;00m\u001b[38;5;124;43m\"\u001b[39;49m\u001b[43m)\u001b[49m\n\u001b[0;32m      5\u001b[0m \u001b[38;5;28mprint\u001b[39m(\u001b[38;5;124mf\u001b[39m\u001b[38;5;124m\"\u001b[39m\u001b[38;5;124mPerímetro: \u001b[39m\u001b[38;5;132;01m{\u001b[39;00mperimetro1\u001b[38;5;132;01m}\u001b[39;00m\u001b[38;5;124m\"\u001b[39m)\n",
      "\u001b[1;31mTypeError\u001b[0m: 'NoneType' object is not callable"
     ]
    }
   ],
   "source": [
    "retangulo1 = Retangulo(5,3)\n",
    "area1 = retangulo1.area()\n",
    "perimetro1 = retangulo1.perimetro()\n",
    "print(f\"Área: {area1}\")\n",
    "print(f\"Perímetro: {perimetro1}\")"
   ]
  },
  {
   "cell_type": "markdown",
   "metadata": {},
   "source": [
    "Crie uma classe Conta que tenha os atributos saldo e titular e os métodos depositar() e sacar(). Em seguida, instancie essa classe com um saldo inicial e realize algumas operações de depósito e saque para verificar se o saldo está sendo atualizado corretamente."
   ]
  },
  {
   "cell_type": "code",
   "execution_count": 72,
   "metadata": {},
   "outputs": [],
   "source": [
    "class Conta:\n",
    "  def __init__(self, titular, saldo_inicial=0):\n",
    "    self.titular = titular\n",
    "    self.saldo = saldo_inicial\n",
    "\n",
    "  def depositar(self, valor):\n",
    "      if valor > 0:\n",
    "       self.saldo += valor\n",
    "       print(f\"Depósito de R${valor:.2f} realizado com sucesso na conta de {self.titular}.\")\n",
    "      else:\n",
    "       print(\"Valor de depósito inválido. O valor deve ser maior que zero.\")\n",
    "\n",
    "  def sacar(self, valor):\n",
    "      if valor > 0 and valor <= self.saldo:\n",
    "       self.saldo -= valor\n",
    "       print(f\"Saque de R${valor:.2f} realizado com sucesso na conta de {self.titular}.\")\n",
    "      else:\n",
    "       print(f\"Saque não realizado. Saldo insuficiente ou valor inválido (deve ser maior que zero e menor que o saldo).\")"
   ]
  }
 ],
 "metadata": {
  "kernelspec": {
   "display_name": "ambientedetrabalho",
   "language": "python",
   "name": "python3"
  },
  "language_info": {
   "codemirror_mode": {
    "name": "ipython",
    "version": 3
   },
   "file_extension": ".py",
   "mimetype": "text/x-python",
   "name": "python",
   "nbconvert_exporter": "python",
   "pygments_lexer": "ipython3",
   "version": "3.12.3"
  }
 },
 "nbformat": 4,
 "nbformat_minor": 2
}
